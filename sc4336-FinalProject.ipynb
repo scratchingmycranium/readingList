{
 "cells": [
  {
   "cell_type": "markdown",
   "metadata": {},
   "source": [
    "# Project\n",
    "- Work solo or with one other person\n",
    "- Topic should be something interesting and fun for you\n",
    "- Your code should be written in Python 3.7\n",
    "- Effort roughly equivalent to two homeworks\n",
    "    - perhaps 100-200 lines of code\n",
    "    - sometimes people really get into it, which is fine\n",
    "        - have seen 1,000 line programs, but this is NOT necessary\n",
    "- All I'm really looking for is to see you've learned some Python and can do something with it\n",
    "- Happy to discuss your project with you if you have questions\n",
    "- Hangman games are highly discouraged(seen a pile of them)\n",
    "- Some people put their projects on GitHub\n",
    "- Fill in this notebook and include it in the zip file you submit"
   ]
  },
  {
   "cell_type": "markdown",
   "metadata": {},
   "source": [
    "# If you did a solo project, fill in this cell\n",
    "\n",
    "```\n",
    "name: Simcha Coleman\n",
    "UNI: sc4336\n",
    "```\n"
   ]
  },
  {
   "cell_type": "markdown",
   "metadata": {},
   "source": [
    "# What does your project do?\n",
    "\n",
    "- A reading list for books you have read or plan to read\n",
    "- Google search any book from list with one click\n",
    "- Add/remove book entries\n",
    "- Book list is sortable"
   ]
  },
  {
   "cell_type": "markdown",
   "metadata": {},
   "source": [
    "# GIF Walkthrough:\n",
    "![alt text](walkthroughGif.gif \"Logo Title Text 1\")"
   ]
  },
  {
   "cell_type": "markdown",
   "metadata": {},
   "source": [
    "# What modules did you import, if any?\n",
    "\n",
    "- Selenium\n",
    "- Flask"
   ]
  },
  {
   "cell_type": "markdown",
   "metadata": {},
   "source": [
    "# Attribution\n",
    "\n",
    "- Code from lecture"
   ]
  },
  {
   "cell_type": "markdown",
   "metadata": {},
   "source": [
    "# Explain how we can run your project\n",
    "\n",
    "- Open a terminal and navigate to project directory\n",
    "- Start server with:\n",
    "    - python server.py\n",
    "- In browser, visit the address displayed in terminal\n",
    "\n",
    "\n"
   ]
  },
  {
   "cell_type": "markdown",
   "metadata": {},
   "source": [
    "# Testing Information\n",
    "\n",
    "- When using the 'lookup' feature, if you want to search for multiple books, \n",
    "you should not close the instance of Firefox, simply click 'lookup' for the next book. If you close Firefox, you will need to restart the server.\n",
    "\n",
    "\n",
    "- Book Examples:\n",
    "    - \"Becoming\" - Michelle Obama\n",
    "    - \"Educated\" - Tara Westover\n",
    "    - \"The Matriarch\" - Susan Page"
   ]
  },
  {
   "cell_type": "markdown",
   "metadata": {},
   "source": [
    "# An evaluation of Python's suitability to your task\n",
    "- Were any problems encountered?\n",
    "    - No major problems were encountered. I wrote this program using Visual Studio Code which was my first time using it from start to finish. I had some issues with importing modules, in the past I've found it easier to use PyCharm. But overall, I enjoyed this project.\n",
    "- Was Python a good fit for your project?\n",
    "    - I found python to work perfectly with the front end and I can def see myself using it going forward. As a language, Python is more intuitive than Java or C/C++ and the wide variety of modules make it really flexible.\n",
    "        \n"
   ]
  },
  {
   "cell_type": "code",
   "execution_count": null,
   "metadata": {},
   "outputs": [],
   "source": []
  }
 ],
 "metadata": {
  "kernelspec": {
   "display_name": "Python 3",
   "language": "python",
   "name": "python3"
  },
  "language_info": {
   "codemirror_mode": {
    "name": "ipython",
    "version": 3
   },
   "file_extension": ".py",
   "mimetype": "text/x-python",
   "name": "python",
   "nbconvert_exporter": "python",
   "pygments_lexer": "ipython3",
   "version": "3.7.1"
  }
 },
 "nbformat": 4,
 "nbformat_minor": 1
}
